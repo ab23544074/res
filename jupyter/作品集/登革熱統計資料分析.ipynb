{
 "cells": [
  {
   "cell_type": "code",
   "execution_count": 1,
   "metadata": {},
   "outputs": [],
   "source": [
    "import urllib\n",
    "import json\n",
    "html = urllib.request.urlopen(r'https://od.cdc.gov.tw/eic/Dengue_Daily.json')\n",
    "\n",
    "hjson = json.loads(html.read())\n"
   ]
  },
  {
   "cell_type": "code",
   "execution_count": 2,
   "metadata": {},
   "outputs": [],
   "source": [
    "import pandas as pd"
   ]
  },
  {
   "cell_type": "code",
   "execution_count": 3,
   "metadata": {},
   "outputs": [
    {
     "name": "stdout",
     "output_type": "stream",
     "text": [
      "              發病日       個案研判日         通報日 性別    年齡層 居住縣市 居住鄉鎮  居住村里  \\\n",
      "0      1998/01/02        None  1998/01/07  男  40-44  屏東縣  屏東市  None   \n",
      "1      1998/01/03        None  1998/01/14  男  30-34  屏東縣  東港鎮  None   \n",
      "2      1998/01/13        None  1998/02/18  男  55-59  宜蘭縣  宜蘭市  None   \n",
      "3      1998/01/15        None  1998/01/23  男  35-39  高雄市  苓雅區  None   \n",
      "4      1998/01/20        None  1998/02/04  男  55-59  宜蘭縣  五結鄉  None   \n",
      "...           ...         ...         ... ..    ...  ...  ...   ...   \n",
      "79943  2020/10/02  2020/10/04  2020/10/03  男  40-44  新北市  三峽區   中埔里   \n",
      "79944  2020/10/02  2020/10/04  2020/10/02  男  50-54  新北市  三峽區   五寮里   \n",
      "79945  2020/10/03  2020/10/07  2020/10/07  男  35-39  新北市  樹林區   樹西里   \n",
      "79946  2020/10/07  2020/10/10  2020/10/08  男  25-29  屏東縣  屏東市   崇禮里   \n",
      "79947  2020/10/07  2020/10/13  2020/10/11  男  50-54  新北市  三峽區   嘉添里   \n",
      "\n",
      "               最小統計區      最小統計區中心點X  ... 是否境外移入  感染國家 確定病例數       居住村里代碼  \\\n",
      "0      A1320-0136-00  120.505898941  ...      否  None     1         None   \n",
      "1      A1303-0150-00  120.453657460  ...      是  None     1         None   \n",
      "2      A0201-0449-00  121.751433765  ...      是  None     1         None   \n",
      "3      A6408-0153-00  120.338158907  ...      否  None     1         None   \n",
      "4      A0209-0232-00  121.798235373  ...      否  None     1         None   \n",
      "...              ...            ...  ...    ...   ...   ...          ...   \n",
      "79943  A6509-0421-00  121.364862561  ...      否  None     1  6500900-004   \n",
      "79944  A6509-0573-00  121.373031909  ...      否  中華民國     1  6500900-014   \n",
      "79945  A6507-0361-00  121.420385888  ...      否  None     1  6500700-009   \n",
      "79946  A1301-0709-00  120.484637740  ...      是    越南     1  1001301-011   \n",
      "79947  A6509-0477-00  121.386421829  ...      否  None     1  6500900-011   \n",
      "\n",
      "            感染村里代碼   血清型 內政部居住縣市代碼 內政部居住鄉鎮代碼 內政部感染縣市代碼 內政部感染鄉鎮代碼  \n",
      "0             None  None     10013   1001301      None      None  \n",
      "1             None   第二型     10013   1001303      None      None  \n",
      "2             None  None     10002   1000201      None      None  \n",
      "3             None  None        64   6400800      None      None  \n",
      "4             None  None     10002   1000209      None      None  \n",
      "...            ...   ...       ...       ...       ...       ...  \n",
      "79943         None  None        65   6500900      None      None  \n",
      "79944  6500900-014  None        65   6500900        65   6500900  \n",
      "79945         None   第一型        65   6500700      None      None  \n",
      "79946         None   第一型     10013   1001301      None      None  \n",
      "79947         None   第一型        65   6500900      None      None  \n",
      "\n",
      "[79948 rows x 26 columns]\n"
     ]
    }
   ],
   "source": [
    "datafm = pd.DataFrame(hjson)\n",
    "print(datafm)"
   ]
  },
  {
   "cell_type": "code",
   "execution_count": 4,
   "metadata": {},
   "outputs": [],
   "source": [
    "#為了下面方便看到所有的欄位\n",
    "pd.set_option('display.max_columns',None)"
   ]
  },
  {
   "cell_type": "code",
   "execution_count": 5,
   "metadata": {},
   "outputs": [
    {
     "data": {
      "text/html": [
       "<div>\n",
       "<style scoped>\n",
       "    .dataframe tbody tr th:only-of-type {\n",
       "        vertical-align: middle;\n",
       "    }\n",
       "\n",
       "    .dataframe tbody tr th {\n",
       "        vertical-align: top;\n",
       "    }\n",
       "\n",
       "    .dataframe thead th {\n",
       "        text-align: right;\n",
       "    }\n",
       "</style>\n",
       "<table border=\"1\" class=\"dataframe\">\n",
       "  <thead>\n",
       "    <tr style=\"text-align: right;\">\n",
       "      <th></th>\n",
       "      <th>發病日</th>\n",
       "      <th>個案研判日</th>\n",
       "      <th>通報日</th>\n",
       "      <th>性別</th>\n",
       "      <th>年齡層</th>\n",
       "      <th>居住縣市</th>\n",
       "      <th>居住鄉鎮</th>\n",
       "      <th>居住村里</th>\n",
       "      <th>最小統計區</th>\n",
       "      <th>最小統計區中心點X</th>\n",
       "      <th>最小統計區中心點Y</th>\n",
       "      <th>一級統計區</th>\n",
       "      <th>二級統計區</th>\n",
       "      <th>感染縣市</th>\n",
       "      <th>感染鄉鎮</th>\n",
       "      <th>感染村里</th>\n",
       "      <th>是否境外移入</th>\n",
       "      <th>感染國家</th>\n",
       "      <th>確定病例數</th>\n",
       "      <th>居住村里代碼</th>\n",
       "      <th>感染村里代碼</th>\n",
       "      <th>血清型</th>\n",
       "      <th>內政部居住縣市代碼</th>\n",
       "      <th>內政部居住鄉鎮代碼</th>\n",
       "      <th>內政部感染縣市代碼</th>\n",
       "      <th>內政部感染鄉鎮代碼</th>\n",
       "    </tr>\n",
       "  </thead>\n",
       "  <tbody>\n",
       "    <tr>\n",
       "      <th>0</th>\n",
       "      <td>1998/01/02</td>\n",
       "      <td>None</td>\n",
       "      <td>1998/01/07</td>\n",
       "      <td>男</td>\n",
       "      <td>40-44</td>\n",
       "      <td>屏東縣</td>\n",
       "      <td>屏東市</td>\n",
       "      <td>None</td>\n",
       "      <td>A1320-0136-00</td>\n",
       "      <td>120.505898941</td>\n",
       "      <td>22.464206650</td>\n",
       "      <td>A1320-04-008</td>\n",
       "      <td>A1320-04</td>\n",
       "      <td>None</td>\n",
       "      <td>None</td>\n",
       "      <td>None</td>\n",
       "      <td>否</td>\n",
       "      <td>None</td>\n",
       "      <td>1</td>\n",
       "      <td>None</td>\n",
       "      <td>None</td>\n",
       "      <td>None</td>\n",
       "      <td>10013</td>\n",
       "      <td>1001301</td>\n",
       "      <td>None</td>\n",
       "      <td>None</td>\n",
       "    </tr>\n",
       "    <tr>\n",
       "      <th>1</th>\n",
       "      <td>1998/01/03</td>\n",
       "      <td>None</td>\n",
       "      <td>1998/01/14</td>\n",
       "      <td>男</td>\n",
       "      <td>30-34</td>\n",
       "      <td>屏東縣</td>\n",
       "      <td>東港鎮</td>\n",
       "      <td>None</td>\n",
       "      <td>A1303-0150-00</td>\n",
       "      <td>120.453657460</td>\n",
       "      <td>22.466338948</td>\n",
       "      <td>A1303-09-007</td>\n",
       "      <td>A1303-09</td>\n",
       "      <td>None</td>\n",
       "      <td>None</td>\n",
       "      <td>None</td>\n",
       "      <td>是</td>\n",
       "      <td>None</td>\n",
       "      <td>1</td>\n",
       "      <td>None</td>\n",
       "      <td>None</td>\n",
       "      <td>第二型</td>\n",
       "      <td>10013</td>\n",
       "      <td>1001303</td>\n",
       "      <td>None</td>\n",
       "      <td>None</td>\n",
       "    </tr>\n",
       "    <tr>\n",
       "      <th>2</th>\n",
       "      <td>1998/01/13</td>\n",
       "      <td>None</td>\n",
       "      <td>1998/02/18</td>\n",
       "      <td>男</td>\n",
       "      <td>55-59</td>\n",
       "      <td>宜蘭縣</td>\n",
       "      <td>宜蘭市</td>\n",
       "      <td>None</td>\n",
       "      <td>A0201-0449-00</td>\n",
       "      <td>121.751433765</td>\n",
       "      <td>24.749214667</td>\n",
       "      <td>A0201-23-006</td>\n",
       "      <td>A0201-23</td>\n",
       "      <td>None</td>\n",
       "      <td>None</td>\n",
       "      <td>None</td>\n",
       "      <td>是</td>\n",
       "      <td>None</td>\n",
       "      <td>1</td>\n",
       "      <td>None</td>\n",
       "      <td>None</td>\n",
       "      <td>None</td>\n",
       "      <td>10002</td>\n",
       "      <td>1000201</td>\n",
       "      <td>None</td>\n",
       "      <td>None</td>\n",
       "    </tr>\n",
       "    <tr>\n",
       "      <th>3</th>\n",
       "      <td>1998/01/15</td>\n",
       "      <td>None</td>\n",
       "      <td>1998/01/23</td>\n",
       "      <td>男</td>\n",
       "      <td>35-39</td>\n",
       "      <td>高雄市</td>\n",
       "      <td>苓雅區</td>\n",
       "      <td>None</td>\n",
       "      <td>A6408-0153-00</td>\n",
       "      <td>120.338158907</td>\n",
       "      <td>22.630316700</td>\n",
       "      <td>A6408-10-010</td>\n",
       "      <td>A6408-10</td>\n",
       "      <td>None</td>\n",
       "      <td>None</td>\n",
       "      <td>None</td>\n",
       "      <td>否</td>\n",
       "      <td>None</td>\n",
       "      <td>1</td>\n",
       "      <td>None</td>\n",
       "      <td>None</td>\n",
       "      <td>None</td>\n",
       "      <td>64</td>\n",
       "      <td>6400800</td>\n",
       "      <td>None</td>\n",
       "      <td>None</td>\n",
       "    </tr>\n",
       "    <tr>\n",
       "      <th>4</th>\n",
       "      <td>1998/01/20</td>\n",
       "      <td>None</td>\n",
       "      <td>1998/02/04</td>\n",
       "      <td>男</td>\n",
       "      <td>55-59</td>\n",
       "      <td>宜蘭縣</td>\n",
       "      <td>五結鄉</td>\n",
       "      <td>None</td>\n",
       "      <td>A0209-0232-00</td>\n",
       "      <td>121.798235373</td>\n",
       "      <td>24.684507639</td>\n",
       "      <td>A0209-10-005</td>\n",
       "      <td>A0209-10</td>\n",
       "      <td>None</td>\n",
       "      <td>None</td>\n",
       "      <td>None</td>\n",
       "      <td>否</td>\n",
       "      <td>None</td>\n",
       "      <td>1</td>\n",
       "      <td>None</td>\n",
       "      <td>None</td>\n",
       "      <td>None</td>\n",
       "      <td>10002</td>\n",
       "      <td>1000209</td>\n",
       "      <td>None</td>\n",
       "      <td>None</td>\n",
       "    </tr>\n",
       "  </tbody>\n",
       "</table>\n",
       "</div>"
      ],
      "text/plain": [
       "          發病日 個案研判日         通報日 性別    年齡層 居住縣市 居住鄉鎮  居住村里          最小統計區  \\\n",
       "0  1998/01/02  None  1998/01/07  男  40-44  屏東縣  屏東市  None  A1320-0136-00   \n",
       "1  1998/01/03  None  1998/01/14  男  30-34  屏東縣  東港鎮  None  A1303-0150-00   \n",
       "2  1998/01/13  None  1998/02/18  男  55-59  宜蘭縣  宜蘭市  None  A0201-0449-00   \n",
       "3  1998/01/15  None  1998/01/23  男  35-39  高雄市  苓雅區  None  A6408-0153-00   \n",
       "4  1998/01/20  None  1998/02/04  男  55-59  宜蘭縣  五結鄉  None  A0209-0232-00   \n",
       "\n",
       "       最小統計區中心點X     最小統計區中心點Y         一級統計區     二級統計區  感染縣市  感染鄉鎮  感染村里  \\\n",
       "0  120.505898941  22.464206650  A1320-04-008  A1320-04  None  None  None   \n",
       "1  120.453657460  22.466338948  A1303-09-007  A1303-09  None  None  None   \n",
       "2  121.751433765  24.749214667  A0201-23-006  A0201-23  None  None  None   \n",
       "3  120.338158907  22.630316700  A6408-10-010  A6408-10  None  None  None   \n",
       "4  121.798235373  24.684507639  A0209-10-005  A0209-10  None  None  None   \n",
       "\n",
       "  是否境外移入  感染國家 確定病例數 居住村里代碼 感染村里代碼   血清型 內政部居住縣市代碼 內政部居住鄉鎮代碼 內政部感染縣市代碼  \\\n",
       "0      否  None     1   None   None  None     10013   1001301      None   \n",
       "1      是  None     1   None   None   第二型     10013   1001303      None   \n",
       "2      是  None     1   None   None  None     10002   1000201      None   \n",
       "3      否  None     1   None   None  None        64   6400800      None   \n",
       "4      否  None     1   None   None  None     10002   1000209      None   \n",
       "\n",
       "  內政部感染鄉鎮代碼  \n",
       "0      None  \n",
       "1      None  \n",
       "2      None  \n",
       "3      None  \n",
       "4      None  "
      ]
     },
     "execution_count": 5,
     "metadata": {},
     "output_type": "execute_result"
    }
   ],
   "source": [
    "datafm.head()"
   ]
  },
  {
   "cell_type": "code",
   "execution_count": 6,
   "metadata": {},
   "outputs": [],
   "source": [
    "#把沒有資料的欄位清理掉\n",
    "datafm = datafm.drop(['個案研判日','居住村里','感染縣市','感染鄉鎮','感染鄉鎮','感染國家','居住村里代碼','感染村里代碼','內政部感染縣市代碼','內政部感染鄉鎮代碼'], axis = 1)"
   ]
  },
  {
   "cell_type": "code",
   "execution_count": 7,
   "metadata": {},
   "outputs": [
    {
     "data": {
      "text/html": [
       "<div>\n",
       "<style scoped>\n",
       "    .dataframe tbody tr th:only-of-type {\n",
       "        vertical-align: middle;\n",
       "    }\n",
       "\n",
       "    .dataframe tbody tr th {\n",
       "        vertical-align: top;\n",
       "    }\n",
       "\n",
       "    .dataframe thead th {\n",
       "        text-align: right;\n",
       "    }\n",
       "</style>\n",
       "<table border=\"1\" class=\"dataframe\">\n",
       "  <thead>\n",
       "    <tr style=\"text-align: right;\">\n",
       "      <th></th>\n",
       "      <th>發病日</th>\n",
       "      <th>通報日</th>\n",
       "      <th>性別</th>\n",
       "      <th>年齡層</th>\n",
       "      <th>居住縣市</th>\n",
       "      <th>居住鄉鎮</th>\n",
       "      <th>最小統計區</th>\n",
       "      <th>最小統計區中心點X</th>\n",
       "      <th>最小統計區中心點Y</th>\n",
       "      <th>一級統計區</th>\n",
       "      <th>二級統計區</th>\n",
       "      <th>是否境外移入</th>\n",
       "      <th>確定病例數</th>\n",
       "      <th>血清型</th>\n",
       "      <th>內政部居住縣市代碼</th>\n",
       "      <th>內政部居住鄉鎮代碼</th>\n",
       "    </tr>\n",
       "  </thead>\n",
       "  <tbody>\n",
       "    <tr>\n",
       "      <th>0</th>\n",
       "      <td>1998/01/02</td>\n",
       "      <td>1998/01/07</td>\n",
       "      <td>男</td>\n",
       "      <td>40-44</td>\n",
       "      <td>屏東縣</td>\n",
       "      <td>屏東市</td>\n",
       "      <td>A1320-0136-00</td>\n",
       "      <td>120.505898941</td>\n",
       "      <td>22.464206650</td>\n",
       "      <td>A1320-04-008</td>\n",
       "      <td>A1320-04</td>\n",
       "      <td>否</td>\n",
       "      <td>1</td>\n",
       "      <td>None</td>\n",
       "      <td>10013</td>\n",
       "      <td>1001301</td>\n",
       "    </tr>\n",
       "    <tr>\n",
       "      <th>1</th>\n",
       "      <td>1998/01/03</td>\n",
       "      <td>1998/01/14</td>\n",
       "      <td>男</td>\n",
       "      <td>30-34</td>\n",
       "      <td>屏東縣</td>\n",
       "      <td>東港鎮</td>\n",
       "      <td>A1303-0150-00</td>\n",
       "      <td>120.453657460</td>\n",
       "      <td>22.466338948</td>\n",
       "      <td>A1303-09-007</td>\n",
       "      <td>A1303-09</td>\n",
       "      <td>是</td>\n",
       "      <td>1</td>\n",
       "      <td>第二型</td>\n",
       "      <td>10013</td>\n",
       "      <td>1001303</td>\n",
       "    </tr>\n",
       "    <tr>\n",
       "      <th>2</th>\n",
       "      <td>1998/01/13</td>\n",
       "      <td>1998/02/18</td>\n",
       "      <td>男</td>\n",
       "      <td>55-59</td>\n",
       "      <td>宜蘭縣</td>\n",
       "      <td>宜蘭市</td>\n",
       "      <td>A0201-0449-00</td>\n",
       "      <td>121.751433765</td>\n",
       "      <td>24.749214667</td>\n",
       "      <td>A0201-23-006</td>\n",
       "      <td>A0201-23</td>\n",
       "      <td>是</td>\n",
       "      <td>1</td>\n",
       "      <td>None</td>\n",
       "      <td>10002</td>\n",
       "      <td>1000201</td>\n",
       "    </tr>\n",
       "    <tr>\n",
       "      <th>3</th>\n",
       "      <td>1998/01/15</td>\n",
       "      <td>1998/01/23</td>\n",
       "      <td>男</td>\n",
       "      <td>35-39</td>\n",
       "      <td>高雄市</td>\n",
       "      <td>苓雅區</td>\n",
       "      <td>A6408-0153-00</td>\n",
       "      <td>120.338158907</td>\n",
       "      <td>22.630316700</td>\n",
       "      <td>A6408-10-010</td>\n",
       "      <td>A6408-10</td>\n",
       "      <td>否</td>\n",
       "      <td>1</td>\n",
       "      <td>None</td>\n",
       "      <td>64</td>\n",
       "      <td>6400800</td>\n",
       "    </tr>\n",
       "    <tr>\n",
       "      <th>4</th>\n",
       "      <td>1998/01/20</td>\n",
       "      <td>1998/02/04</td>\n",
       "      <td>男</td>\n",
       "      <td>55-59</td>\n",
       "      <td>宜蘭縣</td>\n",
       "      <td>五結鄉</td>\n",
       "      <td>A0209-0232-00</td>\n",
       "      <td>121.798235373</td>\n",
       "      <td>24.684507639</td>\n",
       "      <td>A0209-10-005</td>\n",
       "      <td>A0209-10</td>\n",
       "      <td>否</td>\n",
       "      <td>1</td>\n",
       "      <td>None</td>\n",
       "      <td>10002</td>\n",
       "      <td>1000209</td>\n",
       "    </tr>\n",
       "  </tbody>\n",
       "</table>\n",
       "</div>"
      ],
      "text/plain": [
       "          發病日         通報日 性別    年齡層 居住縣市 居住鄉鎮          最小統計區      最小統計區中心點X  \\\n",
       "0  1998/01/02  1998/01/07  男  40-44  屏東縣  屏東市  A1320-0136-00  120.505898941   \n",
       "1  1998/01/03  1998/01/14  男  30-34  屏東縣  東港鎮  A1303-0150-00  120.453657460   \n",
       "2  1998/01/13  1998/02/18  男  55-59  宜蘭縣  宜蘭市  A0201-0449-00  121.751433765   \n",
       "3  1998/01/15  1998/01/23  男  35-39  高雄市  苓雅區  A6408-0153-00  120.338158907   \n",
       "4  1998/01/20  1998/02/04  男  55-59  宜蘭縣  五結鄉  A0209-0232-00  121.798235373   \n",
       "\n",
       "      最小統計區中心點Y         一級統計區     二級統計區 是否境外移入 確定病例數   血清型 內政部居住縣市代碼 內政部居住鄉鎮代碼  \n",
       "0  22.464206650  A1320-04-008  A1320-04      否     1  None     10013   1001301  \n",
       "1  22.466338948  A1303-09-007  A1303-09      是     1   第二型     10013   1001303  \n",
       "2  24.749214667  A0201-23-006  A0201-23      是     1  None     10002   1000201  \n",
       "3  22.630316700  A6408-10-010  A6408-10      否     1  None        64   6400800  \n",
       "4  24.684507639  A0209-10-005  A0209-10      否     1  None     10002   1000209  "
      ]
     },
     "execution_count": 7,
     "metadata": {},
     "output_type": "execute_result"
    }
   ],
   "source": [
    "datafm=datafm.drop('感染村里',axis=1)\n",
    "datafm.head()"
   ]
  },
  {
   "cell_type": "code",
   "execution_count": 65,
   "metadata": {},
   "outputs": [
    {
     "name": "stdout",
     "output_type": "stream",
     "text": [
      "      居住縣市\n",
      "高雄市  46220\n",
      "台南市  26874\n",
      "屏東縣   2194\n",
      "新北市   1000\n",
      "台北市    990\n",
      "台中市    739\n",
      "桃園市    620\n",
      "彰化縣    247\n",
      "澎湖縣    154\n",
      "新竹縣    136\n",
      "雲林縣    113\n",
      "嘉義縣     98\n",
      "南投縣     95\n",
      "新竹市     91\n",
      "苗栗縣     91\n",
      "台東縣     61\n",
      "嘉義市     60\n",
      "宜蘭縣     55\n",
      "花蓮縣     50\n",
      "基隆市     47\n",
      "金門縣     10\n",
      "連江縣      3\n"
     ]
    }
   ],
   "source": [
    "#計算每個縣市出現的病例個數\n",
    "\n",
    "freqcounty = datafm['居住縣市'].value_counts() \n",
    "fc = pd.DataFrame(freqcounty)\n",
    "print(fc)"
   ]
  },
  {
   "cell_type": "code",
   "execution_count": 9,
   "metadata": {},
   "outputs": [],
   "source": [
    "import matplotlib\n",
    "import matplotlib.pyplot as plt\n",
    "\n",
    "import seaborn as sns"
   ]
  },
  {
   "cell_type": "code",
   "execution_count": 22,
   "metadata": {},
   "outputs": [
    {
     "data": {
      "text/plain": [
       "Text(0.5, 1.0, '1998-2020各縣市登革熱統計人數')"
      ]
     },
     "execution_count": 22,
     "metadata": {},
     "output_type": "execute_result"
    },
    {
     "data": {
      "image/png": "[encoded data removed]",
      "text/plain": [
       "<Figure size 792x432 with 1 Axes>"
      ]
     },
     "metadata": {},
     "output_type": "display_data"
    }
   ],
   "source": [
    "import seaborn as sns\n",
    "sns.set()\n",
    "plt.figure(figsize=(11,6))\n",
    "plt.xticks(fontsize=8)\n",
    "plt.yticks(fontsize=14)\n",
    "plt.bar(fc.index,fc['居住縣市'])\n",
    "#顯示中文字\n",
    "plt.rcParams['font.sans-serif'] = ['Microsoft JhengHei'] \n",
    "plt.rcParams['axes.unicode_minus'] = False\n",
    "\n",
    "#文字標籤\n",
    "plt.xlabel(\"縣市\",fontsize=20)\n",
    "plt.ylabel(\"人數\",fontsize=18)\n",
    "plt.title(\"1998-2020各縣市登革熱統計人數\",fontsize=22)"
   ]
  },
  {
   "cell_type": "code",
   "execution_count": 23,
   "metadata": {},
   "outputs": [],
   "source": [
    "#先轉化為日期格式\n",
    "datafm['通報日'] = pd.to_datetime( datafm['通報日'], format=\"%Y/%m/%d\")"
   ]
  },
  {
   "cell_type": "code",
   "execution_count": 24,
   "metadata": {},
   "outputs": [
    {
     "name": "stdout",
     "output_type": "stream",
     "text": [
      "            通報日\n",
      "2015-09-21  846\n",
      "2015-09-22  641\n",
      "2015-09-07  637\n",
      "2015-09-08  637\n",
      "2015-09-16  618\n",
      "...         ...\n",
      "2013-03-28    1\n",
      "2019-03-28    1\n",
      "2005-07-15    1\n",
      "1998-09-08    1\n",
      "2001-12-20    1\n",
      "\n",
      "[4491 rows x 1 columns]\n"
     ]
    }
   ],
   "source": [
    "#計算每日通報的人數\n",
    "time = datafm['通報日'].value_counts() \n",
    "time = pd.DataFrame(time)\n",
    "print(time)"
   ]
  },
  {
   "cell_type": "code",
   "execution_count": 25,
   "metadata": {},
   "outputs": [
    {
     "name": "stdout",
     "output_type": "stream",
     "text": [
      "            通報日\n",
      "1998-01-07    1\n",
      "1998-01-14    1\n",
      "1998-01-23    1\n",
      "1998-02-02    1\n",
      "1998-02-04    1\n",
      "...         ...\n",
      "2020-10-04    1\n",
      "2020-10-05    1\n",
      "2020-10-07    1\n",
      "2020-10-08    1\n",
      "2020-10-11    1\n",
      "\n",
      "[4491 rows x 1 columns]\n"
     ]
    }
   ],
   "source": [
    "#根據日期重新排序\n",
    "time = time.sort_index()\n",
    "print(time)"
   ]
  },
  {
   "cell_type": "code",
   "execution_count": 26,
   "metadata": {},
   "outputs": [
    {
     "data": {
      "text/plain": [
       "Text(0.5, 1.0, '1998-2020每日通報登革熱人數')"
      ]
     },
     "execution_count": 26,
     "metadata": {},
     "output_type": "execute_result"
    },
    {
     "data": {
      "image/png": "[encoded data removed]",
      "text/plain": [
       "<Figure size 1584x576 with 1 Axes>"
      ]
     },
     "metadata": {},
     "output_type": "display_data"
    }
   ],
   "source": [
    "sns.set()\n",
    "plt.figure(figsize=(22,8))\n",
    "plt.xticks(fontsize=17)\n",
    "plt.yticks(fontsize=14)\n",
    "plt.plot(time.index,time['通報日'])\n",
    "#顯示中文字\n",
    "plt.rcParams['font.sans-serif'] = ['Microsoft JhengHei'] \n",
    "plt.rcParams['axes.unicode_minus'] = False\n",
    "\n",
    "#文字標籤\n",
    "plt.xlabel(\"日期\",fontsize=20)\n",
    "plt.ylabel(\"人數\",fontsize=18)\n",
    "plt.title(\"1998-2020每日通報登革熱人數\",fontsize=22)"
   ]
  },
  {
   "cell_type": "code",
   "execution_count": 50,
   "metadata": {},
   "outputs": [
    {
     "name": "stdout",
     "output_type": "stream",
     "text": [
      "      性別\n",
      "女  40018\n",
      "男  39929\n"
     ]
    }
   ],
   "source": [
    "sex = datafm['性別'].value_counts() \n",
    "sex = pd.DataFrame(sex)\n",
    "sex.drop(['None'],inplace=True)\n",
    "print(sex)"
   ]
  },
  {
   "cell_type": "code",
   "execution_count": 63,
   "metadata": {},
   "outputs": [
    {
     "data": {
      "text/plain": [
       "Text(0.5, 1.0, '登革熱男女比例')"
      ]
     },
     "execution_count": 63,
     "metadata": {},
     "output_type": "execute_result"
    },
    {
     "data": {
      "image/png": "[encoded data removed]",
      "text/plain": [
       "<Figure size 432x288 with 1 Axes>"
      ]
     },
     "metadata": {},
     "output_type": "display_data"
    }
   ],
   "source": [
    "import numpy as np\n",
    "fig, ax = plt.subplots( subplot_kw=dict(aspect=\"equal\"))\n",
    "\n",
    "def func(pct, allvals):\n",
    "    absolute = int(pct/100.*np.sum(allvals))\n",
    "    return \"{:.1f}%\\n({:d} g)\".format(pct, absolute)\n",
    "\n",
    "\n",
    "\n",
    "plt.pie(sex['性別'],labels = sex.index)\n",
    "wedges, texts, autotexts = ax.pie(sex['性別'], autopct=lambda pct: func(pct,sex['性別']),\n",
    "                                  textprops=dict(color=\"w\"))\n",
    "\n",
    "\n",
    "ax.set_title(\"登革熱男女比例\")"
   ]
  },
  {
   "cell_type": "code",
   "execution_count": null,
   "metadata": {},
   "outputs": [],
   "source": []
  }
 ],
 "metadata": {
  "kernelspec": {
   "display_name": "Python 3",
   "language": "python",
   "name": "python3"
  },
  "language_info": {
   "codemirror_mode": {
    "name": "ipython",
    "version": 3
   },
   "file_extension": ".py",
   "mimetype": "text/x-python",
   "name": "python",
   "nbconvert_exporter": "python",
   "pygments_lexer": "ipython3",
   "version": "3.8.6"
  }
 },
 "nbformat": 4,
 "nbformat_minor": 4
}
